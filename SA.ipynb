{
 "cells": [
  {
   "cell_type": "markdown",
   "metadata": {},
   "source": [
    "# Sentiment Analysis of the 2016 Presidential Election using Twitter\n",
    "\n",
    "## Introduction\n",
    "\n",
    "The results of the recent presidential election have been polemic and controversial in the U.S and around the world. People are very touched and use social media to express their feelings. What shocks people the most is how inaccurate the polls are as many of them forecasted an easy win for Democratic nominee Hillary Clinton. While data scientists are scrambling to figure out why their prediction models were flawed, a number of social media analytics firms have started to present their own models with data from major social media channels and shown relatively accurate prediction [1].\n",
    "\n",
    "SimplyMeasured saw that social media sentiment towards Donald Trump trended more positively than sentiment towards Hillary Clinton on Election Day [2]. A similar trend was spotted by the analytics firm 4C insights, which found that Trump had more support on Facebook and Twitter from the beginning of October through November 7th [3]. \"Positive sentiment for Trump was 58% to Clinton's 48%\", the firm said [4]. And Brandwatch's analysis also found that Trump had more Twitter mentions [5].\n",
    "\n",
    "To the best of our knowledge, most of the social media analysis models are built upon a time series of data. They are designed to show the trend of positive sentiment for each candidate. None has carried out a geographical analysis yet. In this work, we performed sentiment analysis on tweets from different states of US using the Twitter API and compared our results with the election results of each state. We specifically tried to answer the following questions:\n",
    "\n",
    "* Can we use Twitter data to build a classifier for the 2016 US presidential election?\n",
    "\n",
    "* Are the sentiment analysis results of tweets comparable with true election results?\n"
   ]
  },
  {
   "cell_type": "markdown",
   "metadata": {},
   "source": [
    "## Libraries\n",
    "\n",
    "For this project, you will use the libraries listed below:\n"
   ]
  },
  {
   "cell_type": "code",
   "execution_count": 7,
   "metadata": {
    "collapsed": false
   },
   "outputs": [],
   "source": [
    "import tweepy\n",
    "import nltk\n",
    "import itertools\n",
    "from collections import Counter\n",
    "import numpy as np\n",
    "import sys\n",
    "import pandas as pd\n",
    "import re\n",
    "import string\n",
    "from string import digits\n",
    "from nltk.corpus import stopwords\n",
    "import sklearn\n",
    "import matplotlib.pyplot as plt\n",
    "%matplotlib inline"
   ]
  },
  {
   "cell_type": "markdown",
   "metadata": {},
   "source": [
    "## Data Collection\n",
    "\n",
    "For this project, we will be extracting data from Twitter using the Python library tweepy. Tweepy offers a variety of wrappers around the Twitter API, making it easier for the user to obtain data. However, the Twitter API has some limitations regarding historical data as it can only extract data from within the past week when searching for hashtags and/or location. But we found out that if you search using each specific user's id, you would be able to obtain his/her historical tweets.\n",
    "\n",
    "So our final approach is to find users for each state that are currently tweeting about the election, whom we assume to be more likely to tweet at that time as well, and then query for their tweets during the election time frame.\n",
    "\n",
    "### 1. Authentication\n",
    "\n",
    "First, we need to authenticate our account."
   ]
  },
  {
   "cell_type": "code",
   "execution_count": 11,
   "metadata": {
    "collapsed": false
   },
   "outputs": [],
   "source": [
    "import json\n",
    "\n",
    "with open('config.json') as data_file:    \n",
    "    data = json.load(data_file)"
   ]
  },
  {
   "cell_type": "code",
   "execution_count": 12,
   "metadata": {
    "collapsed": true
   },
   "outputs": [],
   "source": [
    "consumer_key = data[\"consumer_key\"]\n",
    "consumer_secret = data[\"consumer_secret\"]\n",
    "access_token = data[\"access_token\"]\n",
    "access_token_secret = data[\"access_token_secret\"]"
   ]
  },
  {
   "cell_type": "code",
   "execution_count": 15,
   "metadata": {
    "collapsed": true
   },
   "outputs": [],
   "source": [
    "auth = tweepy.OAuthHandler(consumer_key, consumer_secret)\n",
    "auth.set_access_token(access_token, access_token_secret)\n",
    "api = tweepy.API(auth)"
   ]
  },
  {
   "cell_type": "markdown",
   "metadata": {},
   "source": [
    "After our account is authenticated, we can initiate our data collection."
   ]
  },
  {
   "cell_type": "markdown",
   "metadata": {},
   "source": [
    "### 2. Collecting Users By State\n",
    "\n",
    "Let us now collect users that recently tweeted about the election by their states.\n",
    "\n",
    "For each state, we specify a geographical area with the longitude, latitude and radius within which we are going to select users. We experimented with the location parameters to find the optimum radius for each area. We decided to focus on big cities, and to not skew the data too much towards Clinton, we tried to select smaller cities in each state as well. Nonetheless, we expect the data to be skewed towards Clinton.\n",
    "\n",
    "Due to limited amount of time, we are only going to perform the analysis among 24 of all 52 states, including the most critical ones, like Pennsylvania, Florida, Iowa, etc.\n"
   ]
  },
  {
   "cell_type": "code",
   "execution_count": 16,
   "metadata": {
    "collapsed": true
   },
   "outputs": [],
   "source": [
    "geocodes = {\n",
    "    'CA': [\"36.7783,-119.4179,40mi\", \"38.167014,-121.723139,30mi\", '35.404784,-118.888667,80mi'],\n",
    "    'TX': [\"32.769732,-96.901585,25mi\", '31.909753,-102.197028,35mi', '33.564888,-101.764114,25mi', '35.210314,-101.725662,25mi', '29.740337,-95.550393,35mi'],\n",
    "    'PA': ['40.467857,-79.914755,35mi', '40.536721,-76.221279,40mi', '41.323314,-75.796996,10mi'],\n",
    "    'AL': ['33.544256,-86.812935,35mi', '30.705623,-88.149418,10mi'],\n",
    "    'MI': ['42.926319,-85.641269,40mi', '42.734965,-84.506931,40mi', '42.306825,-83.628840,35mi'],\n",
    "    'CO': ['38.574031,-104.677154,35mi', '39.714674,-104.917480,30mi'],\n",
    "    'IA': ['42.130077,-93.615018,100mi', '41.914816,-91.417752,25mi'],\n",
    "    'AZ': ['33.100690,-111.938283,80mi'],\n",
    "    'CT': ['41.676914,-72.699829,25mi'],\n",
    "    'DC': ['38.892852,-76.990545,15mi'],\n",
    "    'MO': ['38.747478,-92.286080,40mi', '37.214840,-93.428658,40mi', '39.087678,-94.505237,15mi'],\n",
    "    'NV': ['36.165426,-115.268451,10mi', '39.167750,-119.695674,20mi', '39.584059,-119.742395,15mi'],\n",
    "    'FL': ['25.730290,-80.255068,35mi','28.478014,-81.463564,35mi', '27.964959,-82.309511,20mi'],\n",
    "    'NM': ['35.040469,-106.563015,35mi', '32.310137,-106.869259,20mi'],\n",
    "    'VA': ['37.525185,-77.463871,60mi', '36.851270,-76.167484,75mi'],\n",
    "    'IL': ['41.8781,-87.6298,30mi', '39.7817,-89.6501,20mi'],\n",
    "    'MN': ['44.9778,-93.2650,20mi', '46.7867,-92.1005,10mi'],\n",
    "    'WI': ['43.0731,-89.4012,20mi', '43.0389,-87.9065,20mi', '44.8113,-91.4985,20mi'],\n",
    "    'WA': ['47.6062,-122.3321,50mi','47.6588,-117.4260,50mi', '46.2112,-119.1372,50mi'],\n",
    "    'OR': ['45.5231,-122.6765,80mi','45.5229,-122.9898,80mi'],\n",
    "    'VA': ['37.5407,-77.4360,80mi', '36.4029,-76.5550,60mi'],\n",
    "    'NY': ['43.0481,-76.1474,30mi', '42.8864,-78.8784,20mi', '43.1610,-77.6109,10mi'],\n",
    "    'NJ': ['40.2171,-74.7429,20mi', '40.5549,-74.4643,20mi', '40.816906,-74.210073,20mi'],\n",
    "    'MD': ['39.2904,-76.6122,20mi', '39.4143,-77.4105,20mi'],\n",
    "    'NC': ['35.7796,-78.6382,35mi', '36.0726,-79.7920,30mi'],\n",
    "}"
   ]
  },
  {
   "cell_type": "markdown",
   "metadata": {},
   "source": [
    "Also, probably due to some error in the twitter API, we found out that Tweepy sometimes returns users that are not really located in the state we are asking for. Therefore, we will use the following keywords to filter our results and ensure that locations are within the state we are requesting.\n"
   ]
  },
  {
   "cell_type": "code",
   "execution_count": 17,
   "metadata": {
    "collapsed": true
   },
   "outputs": [],
   "source": [
    "keywords = {'CA' : ['ca', 'los', 'la', 'san', 'bay', 'bev', 'hill', 'wood', 'jos', 'jose', 'dieg'],\n",
    "            'TX' : ['tx', 'tex', 'dall', 'fort', 'worth', 'dallas', 'hous'],\n",
    "            'PA' : ['pitt', 'pa', 'penn', 'scran', 'allen'],\n",
    "            'AL' : ['al', 'birm', 'mobile'],\n",
    "            'MI' : ['mi', 'grand'],\n",
    "            'CO' : ['co', 'spring', 'denver'],\n",
    "            'AZ' : ['az'],\n",
    "            'CT' : ['ct', 'conn'],\n",
    "            'MO' : ['mo', 'miss'],\n",
    "            'NV' : ['nv', 'nev'],\n",
    "            'DC' : ['wash', 'dc'],\n",
    "            'IA' : ['ia', 'io', 'moi',],\n",
    "            'FL' : ['fl', 'mia','orl'],\n",
    "            'NM' : ['nm', \"new\", \"mex\", \"albu\", \"sant\", 'las'],\n",
    "            'VA' : ['va', 'virgi', 'rich', 'norf', 'beach'],\n",
    "            'IL' : ['il', 'chic', 'evan', 'spring'],\n",
    "            'MN' : ['mn', 'st', 'paul', 'minn'],\n",
    "            'WI' : ['wi', 'eau', 'milw', 'madi'],\n",
    "            'WA' : ['seat', 'wa'],\n",
    "            'OR' : ['port', 'or'],\n",
    "            \"NY\" : ['ny', \"new\", \"york\"],\n",
    "            'NJ' : ['nj', 'pater', 'jers', \"newa\"],\n",
    "            'MD' : ['md', \"mary\"],\n",
    "            'NC' : ['nc', 'north', 'caro'],\n",
    "           }"
   ]
  },
  {
   "cell_type": "markdown",
   "metadata": {},
   "source": [
    "Then for each state, we collect users that recently tweeted about the election this week. And we assume that they also tweeted during the election week.\n",
    "\n",
    "Here is an example of how we did it for Texas. We already collected the users from all states and placed them in a csv file."
   ]
  },
  {
   "cell_type": "code",
   "execution_count": 20,
   "metadata": {
    "collapsed": false
   },
   "outputs": [
    {
     "ename": "TweepError",
     "evalue": "Twitter error response: status code = 429",
     "output_type": "error",
     "traceback": [
      "\u001b[0;31m---------------------------------------------------------------------------\u001b[0m",
      "\u001b[0;31mTweepError\u001b[0m                                Traceback (most recent call last)",
      "\u001b[0;32m<ipython-input-20-604dd1aa7297>\u001b[0m in \u001b[0;36m<module>\u001b[0;34m()\u001b[0m\n\u001b[1;32m      9\u001b[0m         \u001b[0mtime\u001b[0m\u001b[0;34m.\u001b[0m\u001b[0msleep\u001b[0m\u001b[0;34m(\u001b[0m\u001b[0;36m0.1\u001b[0m\u001b[0;34m)\u001b[0m\u001b[0;34m\u001b[0m\u001b[0m\n\u001b[1;32m     10\u001b[0m         \u001b[0mplaces\u001b[0m \u001b[0;34m=\u001b[0m \u001b[0mtweepy\u001b[0m\u001b[0;34m.\u001b[0m\u001b[0mCursor\u001b[0m\u001b[0;34m(\u001b[0m\u001b[0mapi\u001b[0m\u001b[0;34m.\u001b[0m\u001b[0msearch\u001b[0m\u001b[0;34m,\u001b[0m \u001b[0mq\u001b[0m\u001b[0;34m=\u001b[0m\u001b[0mq\u001b[0m\u001b[0;34m,\u001b[0m \u001b[0mgeocode\u001b[0m\u001b[0;34m=\u001b[0m\u001b[0mgeocodes\u001b[0m\u001b[0;34m[\u001b[0m\u001b[0mstate\u001b[0m\u001b[0;34m]\u001b[0m\u001b[0;34m[\u001b[0m\u001b[0mi\u001b[0m\u001b[0;34m]\u001b[0m\u001b[0;34m)\u001b[0m\u001b[0;34m\u001b[0m\u001b[0m\n\u001b[0;32m---> 11\u001b[0;31m         \u001b[0;32mfor\u001b[0m \u001b[0mpage\u001b[0m \u001b[0;32min\u001b[0m \u001b[0mplaces\u001b[0m\u001b[0;34m.\u001b[0m\u001b[0mpages\u001b[0m\u001b[0;34m(\u001b[0m\u001b[0;36m20\u001b[0m\u001b[0;34m)\u001b[0m\u001b[0;34m:\u001b[0m\u001b[0;34m\u001b[0m\u001b[0m\n\u001b[0m\u001b[1;32m     12\u001b[0m             \u001b[0;32mfor\u001b[0m \u001b[0mtweet\u001b[0m \u001b[0;32min\u001b[0m \u001b[0mpage\u001b[0m\u001b[0;34m:\u001b[0m\u001b[0;34m\u001b[0m\u001b[0m\n\u001b[1;32m     13\u001b[0m                 \u001b[0mloc\u001b[0m\u001b[0;34m,\u001b[0m \u001b[0mname\u001b[0m \u001b[0;34m=\u001b[0m \u001b[0mtweet\u001b[0m\u001b[0;34m.\u001b[0m\u001b[0muser\u001b[0m\u001b[0;34m.\u001b[0m\u001b[0mlocation\u001b[0m\u001b[0;34m.\u001b[0m\u001b[0mlower\u001b[0m\u001b[0;34m(\u001b[0m\u001b[0;34m)\u001b[0m\u001b[0;34m,\u001b[0m \u001b[0mtweet\u001b[0m\u001b[0;34m.\u001b[0m\u001b[0muser\u001b[0m\u001b[0;34m.\u001b[0m\u001b[0mscreen_name\u001b[0m\u001b[0;34m\u001b[0m\u001b[0m\n",
      "\u001b[0;32m/Users/Tina/anaconda/envs/py27/lib/python2.7/site-packages/tweepy/cursor.pyc\u001b[0m in \u001b[0;36mnext\u001b[0;34m(self)\u001b[0m\n\u001b[1;32m    106\u001b[0m \u001b[0;34m\u001b[0m\u001b[0m\n\u001b[1;32m    107\u001b[0m         \u001b[0;32mif\u001b[0m \u001b[0mself\u001b[0m\u001b[0;34m.\u001b[0m\u001b[0mindex\u001b[0m \u001b[0;34m>=\u001b[0m \u001b[0mlen\u001b[0m\u001b[0;34m(\u001b[0m\u001b[0mself\u001b[0m\u001b[0;34m.\u001b[0m\u001b[0mresults\u001b[0m\u001b[0;34m)\u001b[0m \u001b[0;34m-\u001b[0m \u001b[0;36m1\u001b[0m\u001b[0;34m:\u001b[0m\u001b[0;34m\u001b[0m\u001b[0m\n\u001b[0;32m--> 108\u001b[0;31m             \u001b[0mdata\u001b[0m \u001b[0;34m=\u001b[0m \u001b[0mself\u001b[0m\u001b[0;34m.\u001b[0m\u001b[0mmethod\u001b[0m\u001b[0;34m(\u001b[0m\u001b[0mmax_id\u001b[0m\u001b[0;34m=\u001b[0m\u001b[0mself\u001b[0m\u001b[0;34m.\u001b[0m\u001b[0mmax_id\u001b[0m\u001b[0;34m,\u001b[0m \u001b[0mparser\u001b[0m\u001b[0;34m=\u001b[0m\u001b[0mRawParser\u001b[0m\u001b[0;34m(\u001b[0m\u001b[0;34m)\u001b[0m\u001b[0;34m,\u001b[0m \u001b[0;34m*\u001b[0m\u001b[0mself\u001b[0m\u001b[0;34m.\u001b[0m\u001b[0margs\u001b[0m\u001b[0;34m,\u001b[0m \u001b[0;34m**\u001b[0m\u001b[0mself\u001b[0m\u001b[0;34m.\u001b[0m\u001b[0mkargs\u001b[0m\u001b[0;34m)\u001b[0m\u001b[0;34m\u001b[0m\u001b[0m\n\u001b[0m\u001b[1;32m    109\u001b[0m \u001b[0;34m\u001b[0m\u001b[0m\n\u001b[1;32m    110\u001b[0m             \u001b[0;32mif\u001b[0m \u001b[0mhasattr\u001b[0m\u001b[0;34m(\u001b[0m\u001b[0mself\u001b[0m\u001b[0;34m.\u001b[0m\u001b[0mmethod\u001b[0m\u001b[0;34m,\u001b[0m \u001b[0;34m'__self__'\u001b[0m\u001b[0;34m)\u001b[0m\u001b[0;34m:\u001b[0m\u001b[0;34m\u001b[0m\u001b[0m\n",
      "\u001b[0;32m/Users/Tina/anaconda/envs/py27/lib/python2.7/site-packages/tweepy/binder.pyc\u001b[0m in \u001b[0;36m_call\u001b[0;34m(*args, **kwargs)\u001b[0m\n\u001b[1;32m    243\u001b[0m             \u001b[0;32mreturn\u001b[0m \u001b[0mmethod\u001b[0m\u001b[0;34m\u001b[0m\u001b[0m\n\u001b[1;32m    244\u001b[0m         \u001b[0;32melse\u001b[0m\u001b[0;34m:\u001b[0m\u001b[0;34m\u001b[0m\u001b[0m\n\u001b[0;32m--> 245\u001b[0;31m             \u001b[0;32mreturn\u001b[0m \u001b[0mmethod\u001b[0m\u001b[0;34m.\u001b[0m\u001b[0mexecute\u001b[0m\u001b[0;34m(\u001b[0m\u001b[0;34m)\u001b[0m\u001b[0;34m\u001b[0m\u001b[0m\n\u001b[0m\u001b[1;32m    246\u001b[0m \u001b[0;34m\u001b[0m\u001b[0m\n\u001b[1;32m    247\u001b[0m     \u001b[0;31m# Set pagination mode\u001b[0m\u001b[0;34m\u001b[0m\u001b[0;34m\u001b[0m\u001b[0m\n",
      "\u001b[0;32m/Users/Tina/anaconda/envs/py27/lib/python2.7/site-packages/tweepy/binder.pyc\u001b[0m in \u001b[0;36mexecute\u001b[0;34m(self)\u001b[0m\n\u001b[1;32m    227\u001b[0m                     \u001b[0;32mraise\u001b[0m \u001b[0mRateLimitError\u001b[0m\u001b[0;34m(\u001b[0m\u001b[0merror_msg\u001b[0m\u001b[0;34m,\u001b[0m \u001b[0mresp\u001b[0m\u001b[0;34m)\u001b[0m\u001b[0;34m\u001b[0m\u001b[0m\n\u001b[1;32m    228\u001b[0m                 \u001b[0;32melse\u001b[0m\u001b[0;34m:\u001b[0m\u001b[0;34m\u001b[0m\u001b[0m\n\u001b[0;32m--> 229\u001b[0;31m                     \u001b[0;32mraise\u001b[0m \u001b[0mTweepError\u001b[0m\u001b[0;34m(\u001b[0m\u001b[0merror_msg\u001b[0m\u001b[0;34m,\u001b[0m \u001b[0mresp\u001b[0m\u001b[0;34m,\u001b[0m \u001b[0mapi_code\u001b[0m\u001b[0;34m=\u001b[0m\u001b[0mapi_error_code\u001b[0m\u001b[0;34m)\u001b[0m\u001b[0;34m\u001b[0m\u001b[0m\n\u001b[0m\u001b[1;32m    230\u001b[0m \u001b[0;34m\u001b[0m\u001b[0m\n\u001b[1;32m    231\u001b[0m             \u001b[0;31m# Parse the response payload\u001b[0m\u001b[0;34m\u001b[0m\u001b[0;34m\u001b[0m\u001b[0m\n",
      "\u001b[0;31mTweepError\u001b[0m: Twitter error response: status code = 429"
     ]
    }
   ],
   "source": [
    "import time\n",
    "\n",
    "# TWEETS FROM TEXAS\n",
    "state = 'TX'\n",
    "qs = ['trump'] # '#election2016', '#hillary', '#electionnight', '#electionday']\n",
    "users = set()\n",
    "for q in qs:\n",
    "    for i in range(len(geocodes[state])):\n",
    "#         time.sleep(0.1)\n",
    "        places = tweepy.Cursor(api.search, q=q, geocode=geocodes[state][i])\n",
    "        for page in places.pages(20):\n",
    "            for tweet in page:\n",
    "                loc, name = tweet.user.location.lower(), tweet.user.screen_name\n",
    "                for kw in keywords[state]:\n",
    "                    if kw in loc:\n",
    "                        users.add((tweet.user.screen_name, tweet.user.location))"
   ]
  },
  {
   "cell_type": "code",
   "execution_count": 21,
   "metadata": {
    "collapsed": false
   },
   "outputs": [
    {
     "name": "stdout",
     "output_type": "stream",
     "text": [
      "0\n"
     ]
    }
   ],
   "source": [
    "print len(users)\n",
    "for u, loc in list(users)[:5]:\n",
    "    print u, loc"
   ]
  },
  {
   "cell_type": "code",
   "execution_count": 22,
   "metadata": {
    "collapsed": true
   },
   "outputs": [],
   "source": [
    "df_dict = {\n",
    "    'screen_name' : map(lambda x: x[0], users),\n",
    "    'location'    : state\n",
    "}"
   ]
  },
  {
   "cell_type": "code",
   "execution_count": 23,
   "metadata": {
    "collapsed": true
   },
   "outputs": [],
   "source": [
    "user_df = pd.DataFrame.from_dict(df_dict)\n",
    "user_df.to_csv(\"tx_users.csv\", header=False, mode='a')"
   ]
  },
  {
   "cell_type": "markdown",
   "metadata": {},
   "source": [
    "### 3. Collecting Training Data\n",
    "\n",
    "Tweepy has some limitations. One of them is that it doesn't allow to extract tweets in a specific time range. However, we have found some code in Github that allows to specify a time frame to extract tweets. The code can be found here.\n",
    "The code below is to extract 1500 tweets from the night of the election by searching Trump or Clinton in the tweets using the library of the link above. But the data extracted was skewed towards Clinton which led to low prediction accuracy. Therefore, we searched for 500 tweets for each of the following hashtags: #MakeAmericaGreat, #IamWithHer and #electionNight. By using this approach, the data is more balanced between the two candidates.\n"
   ]
  },
  {
   "cell_type": "code",
   "execution_count": null,
   "metadata": {
    "collapsed": true
   },
   "outputs": [],
   "source": []
  },
  {
   "cell_type": "code",
   "execution_count": 24,
   "metadata": {
    "collapsed": false
   },
   "outputs": [
    {
     "ename": "ImportError",
     "evalue": "No module named TweetCriteria",
     "output_type": "error",
     "traceback": [
      "\u001b[0;31m---------------------------------------------------------------------------\u001b[0m",
      "\u001b[0;31mImportError\u001b[0m                               Traceback (most recent call last)",
      "\u001b[0;32m<ipython-input-24-8f83716f5d6a>\u001b[0m in \u001b[0;36m<module>\u001b[0;34m()\u001b[0m\n\u001b[0;32m----> 1\u001b[0;31m \u001b[0;32mimport\u001b[0m \u001b[0mTweetCriteria\u001b[0m \u001b[0;32mas\u001b[0m \u001b[0mtc\u001b[0m\u001b[0;34m\u001b[0m\u001b[0m\n\u001b[0m\u001b[1;32m      2\u001b[0m \u001b[0;32mimport\u001b[0m \u001b[0mTweetManager\u001b[0m \u001b[0;32mas\u001b[0m \u001b[0mtm\u001b[0m\u001b[0;34m\u001b[0m\u001b[0m\n",
      "\u001b[0;31mImportError\u001b[0m: No module named TweetCriteria"
     ]
    }
   ],
   "source": [
    "import TweetCriteria as tc\n",
    "import TweetManager as tm"
   ]
  },
  {
   "cell_type": "code",
   "execution_count": null,
   "metadata": {
    "collapsed": true
   },
   "outputs": [],
   "source": [
    "import csv\n",
    "writefile = open(\"training.csv\", \"wb\")\n",
    "outputfile = csv.writer(writefile)"
   ]
  },
  {
   "cell_type": "code",
   "execution_count": null,
   "metadata": {
    "collapsed": true
   },
   "outputs": [],
   "source": [
    "tweetCriteria = tc.TweetCriteria().setQuerySearch('#MakeAmericaGreat').setSince('2016-11-09').setUntil('2016-11-10').setMaxTweets(500)\n",
    "tweet = tm.TweetManager().getTweets(tweetCriteria)\n",
    "for tw in tweet:\n",
    "    # Encoding is required since the tw.text is a unicode string\n",
    "    outputfile.writerow([tw.text.encode('ascii','ignore'), tw.date])"
   ]
  },
  {
   "cell_type": "markdown",
   "metadata": {},
   "source": [
    "In order to ensure that the code implemented above is reliable, we have validated these tweets with the tweets obtained using Tweepy.\n",
    "\n",
    "After that, the tweets are manually labeled as 0, 1, 2 for neutral, Trump and Clinton, respectively. These tweets are then saved in a csv file called \"trainingfinal.csv\".\n",
    "\n",
    "Now let's do some pre-processing.\n",
    "\n",
    "## Data Pre-processing\n",
    "\n",
    "First, we load the data."
   ]
  },
  {
   "cell_type": "code",
   "execution_count": null,
   "metadata": {
    "collapsed": true
   },
   "outputs": [],
   "source": [
    "data = pd.read_csv('trainingfinal.csv', header=None)\n",
    "train = np.array([str(tweet) for tweet in data[1]])\n",
    "label = data[0]"
   ]
  },
  {
   "cell_type": "markdown",
   "metadata": {},
   "source": [
    "We would like to parse each tweet into separate words and tokenize them. We used the nltk package to tokenize and we removed all the noises. This includes removing \"@somebody\", URLs, numbers, stopwords, punctuations and capitalization in each tweet.\n"
   ]
  },
  {
   "cell_type": "code",
   "execution_count": 25,
   "metadata": {
    "collapsed": true
   },
   "outputs": [],
   "source": [
    "def process(text, lemmatizer=nltk.stem.wordnet.WordNetLemmatizer()):\n",
    "    '''\n",
    "        input:\n",
    "            text: a string corresponding to one tweet\n",
    "            lemmatizer: default is nltk.stem.wordnet.WordNetLemmatizer()\n",
    "        output:\n",
    "            result: a list of tokenized words\n",
    "    '''\n",
    "#     Remove numbers\n",
    "    text = text.translate(None, digits)\n",
    "    # Normalizes case\n",
    "    text = text.lower()\n",
    "    # remove apostrophes, delete 's\n",
    "    text = text.replace(\"'s\", '')\n",
    "    text = text.replace(\"'\", '')\n",
    "    # Remove @ and URLs\n",
    "    text = re.sub('@\\w+\\s', '', text)\n",
    "    text = re.sub('(http|http).*$', '', text)\n",
    "    # Remove punctuations\n",
    "    for char in string.punctuation:\n",
    "        text = text.replace(char, ' ')\n",
    "    # Tokenize the tweet\n",
    "    result = []\n",
    "    for word in nltk.tokenize.word_tokenize(text):\n",
    "        # Remove stopwords\n",
    "        if word not in stopwords.words('english'):\n",
    "            try:\n",
    "                result.append(lemmatizer.lemmatize(word))\n",
    "            except Exception:\n",
    "                pass\n",
    "    return result"
   ]
  },
  {
   "cell_type": "markdown",
   "metadata": {},
   "source": [
    "After pre-processing the words from each tweet are joined back together as one string.\n"
   ]
  },
  {
   "cell_type": "code",
   "execution_count": null,
   "metadata": {
    "collapsed": true
   },
   "outputs": [],
   "source": [
    "processed_tweets = map(lambda tw: ' '.join(process(tw)), train)"
   ]
  },
  {
   "cell_type": "code",
   "execution_count": null,
   "metadata": {
    "collapsed": true
   },
   "outputs": [],
   "source": [
    "print \"Example sentence after tokenizing: \"\n",
    "for i in range(5, 10):\n",
    "    print processed_tweets[i]"
   ]
  },
  {
   "cell_type": "code",
   "execution_count": null,
   "metadata": {
    "collapsed": true
   },
   "outputs": [],
   "source": [
    "print len(processed_tweets)\n",
    "print \"Trump Supporter\", len(label[label == 1])\n",
    "print \"Clinton Supporter\", len(label[label == 2])\n",
    "print \"Neutral\", len(label[label == 0])"
   ]
  },
  {
   "cell_type": "markdown",
   "metadata": {},
   "source": [
    "## Modeling\n",
    "\n",
    "### 1. First divide the training data into training and development set\n",
    "\n",
    "Because the tweets are totally random, we simply split them and used the first 70% as the training set and the last 30% as the development set.\n"
   ]
  },
  {
   "cell_type": "code",
   "execution_count": null,
   "metadata": {
    "collapsed": true
   },
   "outputs": [],
   "source": [
    "n = int(.7 * len(processed_tweets))\n",
    "train_tweet = processed_tweets[:n]\n",
    "dev_tweet = processed_tweets[n: ]\n",
    "train_label = label[:n]\n",
    "dev_label = label[n:]"
   ]
  },
  {
   "cell_type": "markdown",
   "metadata": {},
   "source": [
    "### 2. SVM Classifier\n",
    "\n",
    "On the following code, we estimated the best parameters for the SVM classifier by experimenting with different kernel types and regularization term.\n"
   ]
  },
  {
   "cell_type": "code",
   "execution_count": null,
   "metadata": {
    "collapsed": true
   },
   "outputs": [],
   "source": [
    "from sklearn import svm\n",
    "# Remove the stopwords and create the features\n",
    "stopwords = nltk.corpus.stopwords.words('english') \n",
    "vectorizer = sklearn.feature_extraction.text.TfidfVectorizer(stop_words=stopwords)\n",
    "X = vectorizer.fit_transform(train_tweet)\n",
    "X_dev = vectorizer.transform(dev_tweet)\n"
   ]
  },
  {
   "cell_type": "code",
   "execution_count": null,
   "metadata": {
    "collapsed": true
   },
   "outputs": [],
   "source": [
    "for kernel in ['rbf', 'linear', 'sigmoid', 'poly']:\n",
    "    for C in [1e2, 1e3, 1e4, 1e5]:\n",
    "        clf_svm = svm.SVC(kernel=kernel, C=C)\n",
    "        clf_svm.fit(X, train_label)\n",
    "        print kernel, C, clf_svm.score(X_dev, list(dev_label))"
   ]
  },
  {
   "cell_type": "markdown",
   "metadata": {},
   "source": [
    "Based on the above results, the best kernel type is rbf and the best C is 1e3.\n",
    "Let's train the classifier with these optimum parameters."
   ]
  },
  {
   "cell_type": "code",
   "execution_count": null,
   "metadata": {
    "collapsed": true
   },
   "outputs": [],
   "source": [
    "X = vectorizer.fit_transform(processed_tweets)\n",
    "clf_svm = svm.SVC(kernel = 'rbf', C = 1e3)\n",
    "clf_svm.fit(X, label)"
   ]
  },
  {
   "cell_type": "markdown",
   "metadata": {},
   "source": [
    "### 3. Naive Bayes Classifier"
   ]
  },
  {
   "cell_type": "code",
   "execution_count": null,
   "metadata": {
    "collapsed": true
   },
   "outputs": [],
   "source": [
    "from sklearn.naive_bayes import MultinomialNB\n",
    "X = vectorizer.transform(train_tweet)\n",
    "X_dev = vectorizer.transform(dev_tweet)\n",
    "clf_nb = MultinomialNB()\n",
    "clf_nb.fit(X, train_label)\n",
    "clf_nb.score(X_dev, list(dev_label))"
   ]
  },
  {
   "cell_type": "markdown",
   "metadata": {},
   "source": [
    "## 4. Word2Vec\n"
   ]
  },
  {
   "cell_type": "code",
   "execution_count": 34,
   "metadata": {
    "collapsed": false
   },
   "outputs": [],
   "source": [
    "from gensim.models import word2vec"
   ]
  },
  {
   "cell_type": "code",
   "execution_count": 35,
   "metadata": {
    "collapsed": true
   },
   "outputs": [],
   "source": [
    "# Set values for various parameters\n",
    "num_features = 300    # Word vector dimensionality                      \n",
    "min_word_count = 40   # Minimum word count                        \n",
    "num_workers = 4       # Number of threads to run in parallel\n",
    "context = 10          # Context window size                                                                                    \n",
    "downsampling = 1e-3   # Downsample setting for frequent words"
   ]
  },
  {
   "cell_type": "code",
   "execution_count": 36,
   "metadata": {
    "collapsed": false
   },
   "outputs": [
    {
     "ename": "NameError",
     "evalue": "name 'train' is not defined",
     "output_type": "error",
     "traceback": [
      "\u001b[0;31m---------------------------------------------------------------------------\u001b[0m",
      "\u001b[0;31mNameError\u001b[0m                                 Traceback (most recent call last)",
      "\u001b[0;32m<ipython-input-36-9838fdb939f1>\u001b[0m in \u001b[0;36m<module>\u001b[0;34m()\u001b[0m\n\u001b[1;32m      1\u001b[0m \u001b[0;31m# Prepare the tokenized sentences\u001b[0m\u001b[0;34m\u001b[0m\u001b[0;34m\u001b[0m\u001b[0m\n\u001b[0;32m----> 2\u001b[0;31m \u001b[0mprocessed_tweets\u001b[0m \u001b[0;34m=\u001b[0m \u001b[0mmap\u001b[0m\u001b[0;34m(\u001b[0m\u001b[0;32mlambda\u001b[0m \u001b[0mtw\u001b[0m\u001b[0;34m:\u001b[0m \u001b[0mprocess\u001b[0m\u001b[0;34m(\u001b[0m\u001b[0mtw\u001b[0m\u001b[0;34m)\u001b[0m\u001b[0;34m,\u001b[0m \u001b[0mtrain\u001b[0m\u001b[0;34m)\u001b[0m\u001b[0;34m\u001b[0m\u001b[0m\n\u001b[0m",
      "\u001b[0;31mNameError\u001b[0m: name 'train' is not defined"
     ]
    }
   ],
   "source": [
    "# Prepare the tokenized sentences\n",
    "processed_tweets = map(lambda tw: process(tw), train)"
   ]
  },
  {
   "cell_type": "code",
   "execution_count": 37,
   "metadata": {
    "collapsed": false
   },
   "outputs": [
    {
     "ename": "NameError",
     "evalue": "name 'processed_tweets' is not defined",
     "output_type": "error",
     "traceback": [
      "\u001b[0;31m---------------------------------------------------------------------------\u001b[0m",
      "\u001b[0;31mNameError\u001b[0m                                 Traceback (most recent call last)",
      "\u001b[0;32m<ipython-input-37-e2098d195e39>\u001b[0m in \u001b[0;36m<module>\u001b[0;34m()\u001b[0m\n\u001b[0;32m----> 1\u001b[0;31m \u001b[0mmodel\u001b[0m \u001b[0;34m=\u001b[0m \u001b[0mword2vec\u001b[0m\u001b[0;34m.\u001b[0m\u001b[0mWord2Vec\u001b[0m\u001b[0;34m(\u001b[0m\u001b[0mprocessed_tweets\u001b[0m\u001b[0;34m,\u001b[0m \u001b[0mworkers\u001b[0m\u001b[0;34m=\u001b[0m\u001b[0mnum_workers\u001b[0m\u001b[0;34m,\u001b[0m                           \u001b[0msize\u001b[0m\u001b[0;34m=\u001b[0m\u001b[0mnum_features\u001b[0m\u001b[0;34m,\u001b[0m \u001b[0mmin_count\u001b[0m \u001b[0;34m=\u001b[0m \u001b[0mmin_word_count\u001b[0m\u001b[0;34m,\u001b[0m                           \u001b[0mwindow\u001b[0m \u001b[0;34m=\u001b[0m \u001b[0mcontext\u001b[0m\u001b[0;34m,\u001b[0m \u001b[0msample\u001b[0m \u001b[0;34m=\u001b[0m \u001b[0mdownsampling\u001b[0m\u001b[0;34m)\u001b[0m\u001b[0;34m\u001b[0m\u001b[0m\n\u001b[0m",
      "\u001b[0;31mNameError\u001b[0m: name 'processed_tweets' is not defined"
     ]
    }
   ],
   "source": [
    "model = word2vec.Word2Vec(processed_tweets, workers=num_workers, \\\n",
    "                          size=num_features, min_count = min_word_count, \\\n",
    "                          window = context, sample = downsampling)\n",
    "model.init_sims(replace=True)\n",
    "model_name = \"SA\"\n",
    "model.save(model_name)"
   ]
  },
  {
   "cell_type": "code",
   "execution_count": null,
   "metadata": {
    "collapsed": true
   },
   "outputs": [],
   "source": [
    "model.doesnt_match(\"man woman child kitchen\".split())"
   ]
  },
  {
   "cell_type": "code",
   "execution_count": null,
   "metadata": {
    "collapsed": true
   },
   "outputs": [],
   "source": [
    "model.most_similar(\"queen\")"
   ]
  },
  {
   "cell_type": "markdown",
   "metadata": {},
   "source": [
    "\n",
    "Since the Naive Bayes classifier had a lower accuracy, we decided to use the SVM classifier with its optimum parameters to make predictions\n",
    "\n",
    "## Predicting Supporters in Each State\n",
    "\n",
    "We now have all the tools required to find the affiliation of each user for each state.\n",
    "\n",
    "First let's load users by state from the csv file we created and put them in a dictionary."
   ]
  },
  {
   "cell_type": "code",
   "execution_count": null,
   "metadata": {
    "collapsed": true
   },
   "outputs": [],
   "source": [
    "users_df = pd.read_csv('clean_users.csv')\n",
    "users_by_state = dict()\n",
    "for state in keywords:\n",
    "    users_by_state[state] = list(set(list(users_df['screen_name'][users_df['location'] == state])))\n",
    "    \n",
    "print users_df['location'].unique()\n",
    "['CA' 'TX' 'PA' 'AL' 'MI' 'CO' 'AZ' 'CT' 'MO' 'NV' 'DC' 'IA' 'FL' 'NM' 'VA'\n",
    " 'WA' 'OR' 'MN' 'IL' 'WI' 'NY' 'NJ' 'MD' 'NC']"
   ]
  },
  {
   "cell_type": "markdown",
   "metadata": {},
   "source": [
    "Then we defined a find_affiliation function. Given all the tweets of a user, it returns Trump if there are more pro-trump tweets, Clinton if there are more pro-clinton tweets, Other if there are an equal number of them.\n"
   ]
  },
  {
   "cell_type": "code",
   "execution_count": null,
   "metadata": {
    "collapsed": true
   },
   "outputs": [],
   "source": [
    "def find_affiliation(clf, vectorizer, tweets):\n",
    "    ret = clf.predict(vectorizer.transform(tweets))\n",
    "    trump = sum(ret == 1)\n",
    "    clinton = sum(ret == 2)\n",
    "    if trump > clinton:\n",
    "        return \"Trump\"\n",
    "    elif clinton > trump:\n",
    "        return \"Clinton\"\n",
    "    else:\n",
    "        return \"Other\""
   ]
  },
  {
   "cell_type": "markdown",
   "metadata": {},
   "source": [
    "Now that we have the find_affiliation function we can find the number of users that support each candidate.\n"
   ]
  },
  {
   "cell_type": "code",
   "execution_count": 26,
   "metadata": {
    "collapsed": true
   },
   "outputs": [],
   "source": [
    "# PREDICTIONS IN TEXAS\n",
    "def predict_state(clf, vectorizer, users_by_state, affiliations, state=\"TX\"):\n",
    "    affiliations[state] = dict()\n",
    "    affiliations[state]['Trump'] = 0\n",
    "    affiliations[state]['Clinton'] = 0\n",
    "    affiliations[state]['Other'] = 0\n",
    "    for name in users_by_state[state]:\n",
    "        tweetCriteria = tc.TweetCriteria().setUsername(name).setQuerySearch('election').setSince(\"2016-11-09\").setUntil('2016-11-11').setMaxTweets(100)\n",
    "        tweet = tm.TweetManager().getTweets(tweetCriteria)\n",
    "        if tweet:\n",
    "            aff = find_affiliation(clf, vectorizer,\n",
    "                    map(lambda tw: tw.text, tweet))\n",
    "            affiliations[state][aff] += 1\n",
    "        else:\n",
    "            affiliations[state]['Other'] += 1"
   ]
  },
  {
   "cell_type": "markdown",
   "metadata": {},
   "source": [
    "Here is the code that performs the classification for each state. It takes a lot of time to run and therefore we stored the result in a dictionnary to avoid multiple runs.\n"
   ]
  },
  {
   "cell_type": "code",
   "execution_count": null,
   "metadata": {
    "collapsed": true
   },
   "outputs": [],
   "source": [
    "aff = dict()\n",
    "for state in keywords:\n",
    "    predict_state(clf_svm, vectorizer, users_by_state, aff, state)\n",
    "    print state, aff[state]"
   ]
  },
  {
   "cell_type": "code",
   "execution_count": 27,
   "metadata": {
    "collapsed": true
   },
   "outputs": [],
   "source": [
    "results = {\n",
    "    'VA': {'Other': 72, 'Clinton': 12, 'Trump': 22},\n",
    "    'CO': {'Other': 82, 'Clinton': 15, 'Trump': 13},\n",
    "    'NM': {'Other': 146, 'Clinton': 10, 'Trump': 25},\n",
    "    'TX': {'Other': 344, 'Clinton': 45, 'Trump': 66},\n",
    "    'CA': {'Other': 221, 'Clinton': 31, 'Trump': 42},\n",
    "    'MN': {'Other': 128, 'Clinton': 20, 'Trump': 14},\n",
    "    'MI': {'Other': 176, 'Clinton': 25, 'Trump': 41},\n",
    "    'AL': {'Other': 106, 'Clinton': 15, 'Trump': 22},\n",
    "    'WI': {'Other': 162, 'Clinton': 29, 'Trump': 27},\n",
    "    'DC': {'Other': 21, 'Clinton': 8, 'Trump': 4},\n",
    "    'PA': {'Other': 160, 'Clinton': 44, 'Trump': 49},\n",
    "    'IL': {'Other': 121, 'Clinton': 20, 'Trump': 20},\n",
    "    'OR': {'Other': 137, 'Clinton': 18, 'Trump': 12},\n",
    "    'IA': {'Other': 146, 'Clinton': 17, 'Trump': 31},\n",
    "    'WA': {'Other': 131, 'Clinton': 22, 'Trump': 22},\n",
    "    'AZ': {'Other': 57, 'Clinton': 18, 'Trump': 24},\n",
    "    'FL': {'Other': 150, 'Clinton': 33, 'Trump': 44},\n",
    "    'MD': {'Other': 146, 'Clinton': 16, 'Trump': 34},\n",
    "    'NJ': {'Other': 100, 'Clinton': 11, 'Trump': 21},\n",
    "    'NC': {'Other': 223, 'Clinton': 25, 'Trump':27},\n",
    "    'MO': {'Other': 148, 'Clinton': 25, 'Trump': 30},\n",
    "    'NV': {'Other': 113, 'Clinton': 17, 'Trump': 40},\n",
    "    'CT': {'Other': 83, 'Clinton': 11, 'Trump': 27},\n",
    "    'NY': {'Other': 162, 'Clinton': 42, 'Trump': 42},\n",
    "}"
   ]
  },
  {
   "cell_type": "markdown",
   "metadata": {},
   "source": [
    "## Analysis of Results\n",
    "\n",
    "Based on the above results, we can see that Trump was predicted as the winner for most of the states selected.\n",
    "\n",
    "The first explanation we can give is the limitations on the tools we used. It was indeed hard to select users that tweeted during election time frame, so we had to make perhaps invalid assumptions and had to combine different APIs in order to collect users, the tweets of those users and the training data.\n",
    "\n",
    "For some states like California and Washington, we believe that another reason is the fact that more people were tweeting about Trump's victory after the election night, which might have confused the classifier. Also, after the results were released, some of the Trump supporters were probably more open about their views than Clinton Supporters.\n",
    "\n",
    "Another explanation for our results to be biased towards Trump can be the sample population obtained to test the classifier. Even though we extracted about 200 users per state, most of them did not tweet during the election which reduced the sample size.\n",
    "\n",
    "Here is the map of our prediction.\n"
   ]
  },
  {
   "cell_type": "code",
   "execution_count": null,
   "metadata": {
    "collapsed": true
   },
   "outputs": [],
   "source": []
  },
  {
   "cell_type": "markdown",
   "metadata": {},
   "source": [
    "Here is the map of real election results of the corresponding states\n"
   ]
  },
  {
   "cell_type": "code",
   "execution_count": null,
   "metadata": {
    "collapsed": true
   },
   "outputs": [],
   "source": []
  },
  {
   "cell_type": "markdown",
   "metadata": {},
   "source": [
    "Now let's go into more details into some of the state."
   ]
  },
  {
   "cell_type": "code",
   "execution_count": 28,
   "metadata": {
    "collapsed": true
   },
   "outputs": [],
   "source": [
    "real_results = {'NY': [61.0, 39.0], \"CO\": [51.6, 48.4], \"PA\": [49.4, 50.6]}\n",
    "predicted_results = {\"NY\": [50.0, 50.0], 'CO': [53.6, 46.4], 'PA': [47.3, 52.7]}\n",
    "# Some of this code comes from: http://matplotlib.org/examples/api/barchart_demo.html\n",
    "def plot_state(state):\n",
    "    actual = real_results[state][0]\n",
    "    actual1 = real_results[state][1]\n",
    "    predicted = predicted_results[state][0]\n",
    "    predicted1 = predicted_results[state][1]\n",
    "    \n",
    "    fig = plt.figure(figsize=(8, 6))\n",
    "    ax = fig.add_subplot(111)\n",
    "\n",
    "    ## the data\n",
    "    N = 1\n",
    "\n",
    "    ## necessary variables\n",
    "    ind = np.arange(N)\n",
    "    width = 0.35\n",
    "\n",
    "    ## the bars\n",
    "    rects1 = ax.bar(ind, actual, width, color='blue')\n",
    "    rects2 = ax.bar(ind+width, predicted, width, color='lightsteelblue',hatch = '/')\n",
    "    rects3 = ax.bar(ind+width*3, actual1, width, color='red')\n",
    "    rects4 = ax.bar(ind+width*4, predicted1, width, color='lightcoral',hatch = '/')\n",
    "    # axes and labels\n",
    "    ax.set_xlim(-width,len(ind)+width*3)\n",
    "    ax.set_ylim(0,80)\n",
    "    ax.set_ylabel('Votes (%)')\n",
    "    ax.set_title('New York Results')\n",
    "    xTickMarks = ['Clinton', 'Trump']\n",
    "    ax.set_xticks((ind+width, ind+width*4))\n",
    "    xtickNames = ax.set_xticklabels(xTickMarks)\n",
    "    plt.setp(xtickNames, fontsize=10)\n",
    "\n",
    "    ## add a legend\n",
    "    ax.legend( (rects1[0], rects2[0], rects3[0], rects4[0]), ('Actual', 'Predicted', 'Actual', 'Predicted') )\n",
    "    plt.show()"
   ]
  },
  {
   "cell_type": "code",
   "execution_count": 29,
   "metadata": {
    "collapsed": false
   },
   "outputs": [
    {
     "data": {
      "image/png": "[encoded data removed]",
      "text/plain": [
       "<matplotlib.figure.Figure at 0x10bb51bd0>"
      ]
     },
     "metadata": {},
     "output_type": "display_data"
    }
   ],
   "source": [
    "plot_state(\"NY\")"
   ]
  },
  {
   "cell_type": "markdown",
   "metadata": {},
   "source": [
    "We know that most Clinton supporters are in New York City, but the twitter API made it difficult to collect enough users due to the location and size of the state. We thus had to collect tweets from smaller cities such as Rochester and Buffalo that are generally more diverse. This is probably why we have a tie in New York. We had a similar issue in New Jersey. This also made it nearly impossible for us to collect enough tweets from the East Coast.\n",
    "\n",
    "Nonetheless we can't really explain why the classifier fails in California. We did not encounter any problem collecting the data and yet we made incorrect predictions. Figuring this out would be interesting future work."
   ]
  },
  {
   "cell_type": "code",
   "execution_count": 32,
   "metadata": {
    "collapsed": false
   },
   "outputs": [
    {
     "data": {
      "image/png": "[encoded data removed]",
      "text/plain": [
       "<matplotlib.figure.Figure at 0x10beeff50>"
      ]
     },
     "metadata": {},
     "output_type": "display_data"
    }
   ],
   "source": [
    "plot_state(\"PA\")"
   ]
  },
  {
   "cell_type": "markdown",
   "metadata": {},
   "source": [
    "\n",
    "As you can see, the results in Pennsylvania correspond almost perfectly to reality. This is due to the fact that we had no problem collecting a lot of tweets from a big city like Pittsburgh and from smaller cities such as Scranton and Allentown. This allows us to have a more representative sample."
   ]
  },
  {
   "cell_type": "markdown",
   "metadata": {},
   "source": [
    "\n",
    "Here again, the predictions were relatively correct. This can also be explained by the ease with which we collected tweets from both small and big cities and how representative our sample was.\n"
   ]
  },
  {
   "cell_type": "code",
   "execution_count": null,
   "metadata": {
    "collapsed": true
   },
   "outputs": [],
   "source": []
  },
  {
   "cell_type": "markdown",
   "metadata": {},
   "source": [
    "# Conclusions\n",
    "\n",
    "This project trained a SVM classifier for sentiment analysis on tweets extracted randomly using the Python library Tweepy. The purpose of training this classifier is to predict the presidential candidates Clinton and Trump for different states across the US. Tweepy has some limitations with regards to extracting old tweets for a specific location. In order to overcome this problem, another library named \"GetOldTweets\" was used. The results showed that the classifier predicted poorly on most of the states where Clinton won. We believed that this problem comes from the difficulties to collect data from big cities, which forced us to search into smaller cities. In addition, since the training set and test sets come from different sources, this probably increased the noise in our data.\n",
    "\n",
    "Our overall results are loosely related to the actual results, but they show that Twitter contains enough data to build socio-political models. It would be interesting to know what kind of results better tools could have produced.\n",
    "\n"
   ]
  },
  {
   "cell_type": "markdown",
   "metadata": {},
   "source": [
    "# References\n",
    "\n",
    "techcrunch: Analysis of social media did a better job at predicting Trump's win than the polls\n",
    "\n",
    "simplymeasured.com: Trump vs Clinton the mood on social before the final debate\n",
    "\n",
    "4cinsights: Election night 2016 impact report"
   ]
  },
  {
   "cell_type": "code",
   "execution_count": null,
   "metadata": {
    "collapsed": true
   },
   "outputs": [],
   "source": []
  }
 ],
 "metadata": {
  "anaconda-cloud": {},
  "kernelspec": {
   "display_name": "Python [py27]",
   "language": "python",
   "name": "Python [py27]"
  },
  "language_info": {
   "codemirror_mode": {
    "name": "ipython",
    "version": 2
   },
   "file_extension": ".py",
   "mimetype": "text/x-python",
   "name": "python",
   "nbconvert_exporter": "python",
   "pygments_lexer": "ipython2",
   "version": "2.7.12"
  }
 },
 "nbformat": 4,
 "nbformat_minor": 0
}
